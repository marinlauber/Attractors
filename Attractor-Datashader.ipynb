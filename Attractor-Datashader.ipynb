{
 "cells": [
  {
   "cell_type": "markdown",
   "metadata": {},
   "source": [
    "# Attractors\n",
    "\n",
    "---\n",
    "\n",
    "### Marin Lauber - 2020"
   ]
  },
  {
   "cell_type": "code",
   "execution_count": null,
   "metadata": {},
   "outputs": [],
   "source": [
    "from attractor import *"
   ]
  },
  {
   "cell_type": "markdown",
   "metadata": {},
   "source": [
    "This notebook allows you to generate some of the cool graphics that you can see [here](https://marinlauber.github.io/Gallery). You have two different attractors, the Clifford attractor, and the Peter de Jong attractor. They are defined by explicit update equation for the spatial location of particle points $(x^{n+1},y^{n+1})$, starting from a given initial position $(x^{n},y^{n})$. \n",
    "\n",
    "## Clifford Attractors\n",
    "\n",
    "The evolution equation for the Clifford attractor is defined as\n",
    "\n",
    "\\begin{split}\n",
    "    x^{n+1} = \\sin(ay^n) + c\\cos(ax^n),\\\\\n",
    "    y^{n+1} = \\sin(bx^n) + d\\cos(by^n),\n",
    "\\end{split}\n",
    "\n",
    "where $a$, $b$, $c$ and $d$ are some parameters that define the attractor. Some parameters that can be used are:\n",
    "\n",
    "   a |  b   |  c   | d\n",
    "-|-|-|-\n",
    "-1.7 |  1.8 | -1.9 | -0.4\n",
    "-1.4 |  1.6 |  1.0 | 0.7\n",
    "-1.8 | -2.0 | -0.5 | -0.9\n",
    " 1.7 |  1.7 |  0.6 | 1.2\n",
    " 1.5 | -1.8 |  1.6 | 0.9\n",
    "\n",
    "\n",
    "## Peter de Jong Attractors\n",
    "\n",
    "A different Attractor is defined by\n",
    "\n",
    "\\begin{split}\n",
    "    x^{n+1} = \\sin(ay^n) - \\cos(bx^n)\\\\\n",
    "    y^{n+1} = \\sin(cx^n) - \\cos(dy^n)\n",
    "\\end{split}\n",
    "\n",
    "where some good parameters are:\n",
    "\n",
    " a |  b   |  c   | d\n",
    "-|-|-|-\n",
    "1.4 | -2.3 | 2.4 | -2.1\n",
    "2.01| -2.53| 1.61| -0.33"
   ]
  },
  {
   "cell_type": "markdown",
   "metadata": {},
   "source": [
    "## Generate the Figures\n",
    "---\n",
    "First you need to generate the trajectories, this is done using the `ComputeTrajectory` function. This function has for arguments, an Attractor (Clifford or PeterdeJong), some initial coordinates $x_0$, $y_0$ and the Attractor parameters. Finally it take an argument $n$ that defines the number of points to compute. By default this is set to $n=200,000,000$, which is a lot, you might want to first run it with much less points to get an idea of the shape of the attractor."
   ]
  },
  {
   "cell_type": "code",
   "execution_count": null,
   "metadata": {},
   "outputs": [],
   "source": [
    "strange = ComputeTrajectory(Clifford, 0, 0,-1.7, 1.8, -1.9, -0.4, n=100000000)"
   ]
  },
  {
   "cell_type": "markdown",
   "metadata": {},
   "source": [
    "The points coordinates are sotred in the `strange` variable, which is a pandas DataFrame"
   ]
  },
  {
   "cell_type": "code",
   "execution_count": null,
   "metadata": {},
   "outputs": [],
   "source": [
    "strange.head()"
   ]
  },
  {
   "cell_type": "markdown",
   "metadata": {},
   "source": [
    "You can then use these points to generate an image with the `DataShader` package. The `cm` can be used to define your custom colormaps by passing `HEX` color code."
   ]
  },
  {
   "cell_type": "code",
   "execution_count": null,
   "metadata": {},
   "outputs": [],
   "source": [
    "strange = ComputeTrajectory(Clifford, 0, 0, -1.8, -2.0, -0.5, -0.9, n=50000000)"
   ]
  },
  {
   "cell_type": "code",
   "execution_count": null,
   "metadata": {},
   "outputs": [],
   "source": [
    "img = MakeImage(strange, cm=['#bfbb34', '#13456e'], size=[3048,3048])\n",
    "SaveImage(img, fname='images/Attractor_1', fmt=\".png\")\n",
    "img"
   ]
  },
  {
   "cell_type": "code",
   "execution_count": null,
   "metadata": {},
   "outputs": [],
   "source": [
    "img = MakeImage(strange, cm=['#114d7d', 'black'], size=[3048,3048])\n",
    "SaveImage(img, fname='images/Attractor_2', fmt=\".png\")\n",
    "img"
   ]
  },
  {
   "cell_type": "code",
   "execution_count": null,
   "metadata": {},
   "outputs": [],
   "source": [
    "strange = ComputeTrajectory(Clifford, 0, 0, -1.8, -2.0, -0.5, -0.9, n=1000000)\n",
    "img = MakeImage(strange)\n",
    "img"
   ]
  },
  {
   "cell_type": "code",
   "execution_count": null,
   "metadata": {},
   "outputs": [],
   "source": [
    "strange = ComputeTrajectory(Clifford, 0, 0, 1.7, 1.7, 0.6, 1.2, n=1000000)\n",
    "img = MakeImage(strange)\n",
    "img"
   ]
  },
  {
   "cell_type": "code",
   "execution_count": null,
   "metadata": {},
   "outputs": [],
   "source": [
    "strange = ComputeTrajectory(Clifford, 0, 0, 1.5, -1.8, 1.6, 0.9, n=1000000)\n",
    "img = MakeImage(strange)\n",
    "img"
   ]
  },
  {
   "cell_type": "code",
   "execution_count": null,
   "metadata": {},
   "outputs": [],
   "source": [
    "strange = ComputeTrajectory(PeterdeJong, 0, 0, 1.4, -2.3, 2.4, -2.1, n=50000000)\n",
    "img = MakeImage(strange, cm=['#bfbb34', '#13456e'], size=[3048,3048])\n",
    "SaveImage(img, fname='images/Attractor_2', fmt=\".png\")\n",
    "img"
   ]
  },
  {
   "cell_type": "code",
   "execution_count": null,
   "metadata": {},
   "outputs": [],
   "source": [
    "img = MakeImage(strange, cm=['#4e7bf5', '#1d3269'], size=[3048,3048])\n",
    "SaveImage(img, fname='images/Attractor_3', fmt=\".png\")\n",
    "img"
   ]
  },
  {
   "cell_type": "markdown",
   "metadata": {},
   "source": [
    "Finally, you can save the image to a png file in the `images/` folder."
   ]
  },
  {
   "cell_type": "code",
   "execution_count": null,
   "metadata": {},
   "outputs": [],
   "source": [
    "SaveImage(img, fname='images/Attractor', fmt=\".png\")"
   ]
  }
 ],
 "metadata": {
  "kernelspec": {
   "display_name": "Attractors",
   "language": "python",
   "name": "python3"
  },
  "language_info": {
   "codemirror_mode": {
    "name": "ipython",
    "version": 3
   },
   "file_extension": ".py",
   "mimetype": "text/x-python",
   "name": "python",
   "nbconvert_exporter": "python",
   "pygments_lexer": "ipython3",
   "version": "3.6.15"
  }
 },
 "nbformat": 4,
 "nbformat_minor": 2
}
